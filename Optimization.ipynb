{
  "nbformat": 4,
  "nbformat_minor": 0,
  "metadata": {
    "colab": {
      "provenance": [],
      "gpuType": "T4"
    },
    "kernelspec": {
      "name": "python3",
      "display_name": "Python 3"
    },
    "language_info": {
      "name": "python"
    },
    "accelerator": "GPU"
  },
  "cells": [
    {
      "cell_type": "code",
      "execution_count": 2,
      "metadata": {
        "id": "Hgbk3PtUeZHp"
      },
      "outputs": [],
      "source": [
        "import numpy as np\n",
        "import pandas as pd\n",
        "import seaborn as sns\n",
        "import matplotlib.pyplot as plt\n",
        "import warnings\n",
        "warnings.filterwarnings('ignore')"
      ]
    },
    {
      "cell_type": "code",
      "source": [
        "import tensorflow as tf\n",
        "from tensorflow import keras\n",
        "from keras.layers import Dense,Flatten,Dropout\n",
        "from keras.models import Sequential"
      ],
      "metadata": {
        "id": "Eyv5gqMMhEI-"
      },
      "execution_count": 1,
      "outputs": []
    },
    {
      "cell_type": "code",
      "source": [
        "from keras.datasets import mnist"
      ],
      "metadata": {
        "id": "dg3U_ZichELq"
      },
      "execution_count": 2,
      "outputs": []
    },
    {
      "cell_type": "code",
      "source": [
        "(x_train,y_train),(x_test,y_test) = mnist.load_data()"
      ],
      "metadata": {
        "colab": {
          "base_uri": "https://localhost:8080/"
        },
        "id": "z3VZUzjHhEOF",
        "outputId": "b4a6e2fa-6c9c-4b5b-bf95-83666c14c5d7"
      },
      "execution_count": 3,
      "outputs": [
        {
          "output_type": "stream",
          "name": "stdout",
          "text": [
            "Downloading data from https://storage.googleapis.com/tensorflow/tf-keras-datasets/mnist.npz\n",
            "11490434/11490434 [==============================] - 0s 0us/step\n"
          ]
        }
      ]
    },
    {
      "cell_type": "code",
      "source": [],
      "metadata": {
        "colab": {
          "base_uri": "https://localhost:8080/"
        },
        "id": "9s2uoy2XpfNQ",
        "outputId": "e43772ab-c8df-4109-e257-64cf63659f10"
      },
      "execution_count": 4,
      "outputs": [
        {
          "output_type": "execute_result",
          "data": {
            "text/plain": [
              "array([5, 0, 4, ..., 5, 6, 8], dtype=uint8)"
            ]
          },
          "metadata": {},
          "execution_count": 4
        }
      ]
    },
    {
      "cell_type": "code",
      "source": [
        "print(x_train.shape,x_test.shape)\n",
        "print(y_train.shape,y_test.shape)\n",
        "#training set consist of 60000 images each of size 28*28 pixels and testing set consists of 10000 images each of size 28*28"
      ],
      "metadata": {
        "colab": {
          "base_uri": "https://localhost:8080/"
        },
        "id": "ROgZq7T-hEQY",
        "outputId": "f5410855-32e1-4261-f4d1-7a08bb8fa7bc"
      },
      "execution_count": 5,
      "outputs": [
        {
          "output_type": "stream",
          "name": "stdout",
          "text": [
            "(60000, 28, 28) (10000, 28, 28)\n",
            "(60000,) (10000,)\n"
          ]
        }
      ]
    },
    {
      "cell_type": "code",
      "source": [
        "x_train = x_train.reshape(x_train.shape[0],28,28,1)\n",
        "x_test = x_test.reshape(x_test.shape[0],28,28,1) #converting images in grayscale\n",
        "input_data = (28,28,1)\n",
        "y_train = keras.utils.to_categorical(y_train) #y_train has values like 5,9,3,1 according to classification . now it is converted in 0's and 1's which mnist no is true that is one rest is 0\n",
        "y_test = keras.utils.to_categorical(y_test)"
      ],
      "metadata": {
        "id": "THga8RxzhESq"
      },
      "execution_count": 7,
      "outputs": []
    },
    {
      "cell_type": "code",
      "source": [
        "y_train[0] #5"
      ],
      "metadata": {
        "colab": {
          "base_uri": "https://localhost:8080/"
        },
        "id": "5VtP0NWEqLml",
        "outputId": "04cbebab-e9a5-4f2a-aada-f0326ea7bbde"
      },
      "execution_count": 9,
      "outputs": [
        {
          "output_type": "execute_result",
          "data": {
            "text/plain": [
              "array([0., 0., 0., 0., 0., 1., 0., 0., 0., 0.], dtype=float32)"
            ]
          },
          "metadata": {},
          "execution_count": 9
        }
      ]
    },
    {
      "cell_type": "code",
      "source": [
        "y_train[1011] #2"
      ],
      "metadata": {
        "colab": {
          "base_uri": "https://localhost:8080/"
        },
        "id": "cjTw_PAwhEUj",
        "outputId": "e75c92a7-7c1b-4d27-a0f7-22dc668dc148"
      },
      "execution_count": 10,
      "outputs": [
        {
          "output_type": "execute_result",
          "data": {
            "text/plain": [
              "array([0., 0., 1., 0., 0., 0., 0., 0., 0., 0.], dtype=float32)"
            ]
          },
          "metadata": {},
          "execution_count": 10
        }
      ]
    },
    {
      "cell_type": "code",
      "source": [
        "#preprocessing using minmax normalization\n",
        "x_train = x_train/255.0\n",
        "x_test = x_test/255.0"
      ],
      "metadata": {
        "id": "UgwXY2hchEXG"
      },
      "execution_count": 11,
      "outputs": []
    },
    {
      "cell_type": "code",
      "source": [
        "#model buildong\n",
        "def build_model(optimizer):\n",
        "  model = Sequential()\n",
        "  model.add(Flatten()) #2d to 1d i.e matrix to vector\n",
        "  model.add(Dense(256,activation = \"relu\",input_shape = input_data))\n",
        "  model.add(Dropout(0.3))\n",
        "  model.add(Dense(256,activation = \"relu\"))\n",
        "  model.add(Dropout(0.4))\n",
        "  model.add(Dense(10,activation = \"softmax\"))\n",
        "  model.compile(optimizer = optimizer,loss = keras.losses.categorical_crossentropy,metrics = [\"accuracy\"])\n",
        "  return model\n"
      ],
      "metadata": {
        "id": "wmN1Tjs1hEZK"
      },
      "execution_count": 16,
      "outputs": []
    },
    {
      "cell_type": "code",
      "source": [
        "optimizer = [\"SGD\",\"Adagrad\",\"Adadelta\",\"RMSprop\",\"Adam\"]\n",
        "for i in optimizer:\n",
        "  model = build_model(i)\n",
        "  print('Running epochs for optimizer:',i)\n",
        "  history = model.fit(x_train,y_train,validation_data = (x_test,y_test),batch_size = 32,verbose = 1,epochs = 10)\n",
        ""
      ],
      "metadata": {
        "colab": {
          "base_uri": "https://localhost:8080/"
        },
        "id": "B5a6EPDzhEbP",
        "outputId": "147d971e-4751-4213-84bb-f4733c211f56"
      },
      "execution_count": 19,
      "outputs": [
        {
          "output_type": "stream",
          "name": "stdout",
          "text": [
            "Running epochs for optimizer: SGD\n",
            "Epoch 1/10\n",
            "1875/1875 [==============================] - 9s 4ms/step - loss: 0.8097 - accuracy: 0.7531 - val_loss: 0.3193 - val_accuracy: 0.9091\n",
            "Epoch 2/10\n",
            "1875/1875 [==============================] - 7s 4ms/step - loss: 0.3921 - accuracy: 0.8848 - val_loss: 0.2457 - val_accuracy: 0.9290\n",
            "Epoch 3/10\n",
            "1875/1875 [==============================] - 8s 4ms/step - loss: 0.3174 - accuracy: 0.9064 - val_loss: 0.2075 - val_accuracy: 0.9387\n",
            "Epoch 4/10\n",
            "1875/1875 [==============================] - 7s 4ms/step - loss: 0.2731 - accuracy: 0.9200 - val_loss: 0.1814 - val_accuracy: 0.9453\n",
            "Epoch 5/10\n",
            "1875/1875 [==============================] - 8s 4ms/step - loss: 0.2416 - accuracy: 0.9294 - val_loss: 0.1617 - val_accuracy: 0.9504\n",
            "Epoch 6/10\n",
            "1875/1875 [==============================] - 7s 4ms/step - loss: 0.2165 - accuracy: 0.9372 - val_loss: 0.1462 - val_accuracy: 0.9556\n",
            "Epoch 7/10\n",
            "1875/1875 [==============================] - 10s 6ms/step - loss: 0.1973 - accuracy: 0.9423 - val_loss: 0.1353 - val_accuracy: 0.9577\n",
            "Epoch 8/10\n",
            "1875/1875 [==============================] - 8s 4ms/step - loss: 0.1854 - accuracy: 0.9446 - val_loss: 0.1252 - val_accuracy: 0.9614\n",
            "Epoch 9/10\n",
            "1875/1875 [==============================] - 7s 4ms/step - loss: 0.1720 - accuracy: 0.9493 - val_loss: 0.1170 - val_accuracy: 0.9644\n",
            "Epoch 10/10\n",
            "1875/1875 [==============================] - 9s 5ms/step - loss: 0.1618 - accuracy: 0.9522 - val_loss: 0.1111 - val_accuracy: 0.9667\n",
            "Running epochs for optimizer: Adagrad\n",
            "Epoch 1/10\n",
            "1875/1875 [==============================] - 9s 4ms/step - loss: 1.3983 - accuracy: 0.5788 - val_loss: 0.6668 - val_accuracy: 0.8487\n",
            "Epoch 2/10\n",
            "1875/1875 [==============================] - 7s 4ms/step - loss: 0.7352 - accuracy: 0.7813 - val_loss: 0.4605 - val_accuracy: 0.8813\n",
            "Epoch 3/10\n",
            "1875/1875 [==============================] - 8s 4ms/step - loss: 0.5925 - accuracy: 0.8213 - val_loss: 0.3901 - val_accuracy: 0.8963\n",
            "Epoch 4/10\n",
            "1875/1875 [==============================] - 7s 4ms/step - loss: 0.5229 - accuracy: 0.8428 - val_loss: 0.3539 - val_accuracy: 0.9030\n",
            "Epoch 5/10\n",
            "1875/1875 [==============================] - 9s 5ms/step - loss: 0.4816 - accuracy: 0.8562 - val_loss: 0.3296 - val_accuracy: 0.9091\n",
            "Epoch 6/10\n",
            "1875/1875 [==============================] - 7s 4ms/step - loss: 0.4471 - accuracy: 0.8673 - val_loss: 0.3120 - val_accuracy: 0.9131\n",
            "Epoch 7/10\n",
            "1875/1875 [==============================] - 8s 5ms/step - loss: 0.4240 - accuracy: 0.8753 - val_loss: 0.2976 - val_accuracy: 0.9166\n",
            "Epoch 8/10\n",
            "1875/1875 [==============================] - 7s 4ms/step - loss: 0.4061 - accuracy: 0.8804 - val_loss: 0.2860 - val_accuracy: 0.9194\n",
            "Epoch 9/10\n",
            "1875/1875 [==============================] - 8s 5ms/step - loss: 0.3889 - accuracy: 0.8860 - val_loss: 0.2761 - val_accuracy: 0.9217\n",
            "Epoch 10/10\n",
            "1875/1875 [==============================] - 7s 4ms/step - loss: 0.3770 - accuracy: 0.8893 - val_loss: 0.2673 - val_accuracy: 0.9232\n",
            "Running epochs for optimizer: Adadelta\n",
            "Epoch 1/10\n",
            "1875/1875 [==============================] - 68s 5ms/step - loss: 2.3254 - accuracy: 0.1178 - val_loss: 2.2146 - val_accuracy: 0.1805\n",
            "Epoch 2/10\n",
            "1875/1875 [==============================] - 8s 4ms/step - loss: 2.2103 - accuracy: 0.1844 - val_loss: 2.1019 - val_accuracy: 0.3771\n",
            "Epoch 3/10\n",
            "1875/1875 [==============================] - 8s 4ms/step - loss: 2.1071 - accuracy: 0.2709 - val_loss: 1.9927 - val_accuracy: 0.5238\n",
            "Epoch 4/10\n",
            "1875/1875 [==============================] - 8s 4ms/step - loss: 2.0085 - accuracy: 0.3524 - val_loss: 1.8807 - val_accuracy: 0.6119\n",
            "Epoch 5/10\n",
            "1875/1875 [==============================] - 7s 4ms/step - loss: 1.9083 - accuracy: 0.4282 - val_loss: 1.7639 - val_accuracy: 0.6731\n",
            "Epoch 6/10\n",
            "1875/1875 [==============================] - 8s 4ms/step - loss: 1.8008 - accuracy: 0.4908 - val_loss: 1.6431 - val_accuracy: 0.7116\n",
            "Epoch 7/10\n",
            "1875/1875 [==============================] - 7s 4ms/step - loss: 1.6976 - accuracy: 0.5356 - val_loss: 1.5224 - val_accuracy: 0.7439\n",
            "Epoch 8/10\n",
            "1875/1875 [==============================] - 8s 4ms/step - loss: 1.5928 - accuracy: 0.5767 - val_loss: 1.4047 - val_accuracy: 0.7664\n",
            "Epoch 9/10\n",
            "1875/1875 [==============================] - 7s 4ms/step - loss: 1.4959 - accuracy: 0.6032 - val_loss: 1.2931 - val_accuracy: 0.7834\n",
            "Epoch 10/10\n",
            "1875/1875 [==============================] - 9s 5ms/step - loss: 1.3994 - accuracy: 0.6317 - val_loss: 1.1899 - val_accuracy: 0.7964\n",
            "Running epochs for optimizer: RMSprop\n",
            "Epoch 1/10\n",
            "1875/1875 [==============================] - 9s 4ms/step - loss: 0.2896 - accuracy: 0.9141 - val_loss: 0.1243 - val_accuracy: 0.9633\n",
            "Epoch 2/10\n",
            "1875/1875 [==============================] - 7s 4ms/step - loss: 0.1613 - accuracy: 0.9561 - val_loss: 0.0928 - val_accuracy: 0.9743\n",
            "Epoch 3/10\n",
            "1875/1875 [==============================] - 8s 4ms/step - loss: 0.1382 - accuracy: 0.9643 - val_loss: 0.0884 - val_accuracy: 0.9771\n",
            "Epoch 4/10\n",
            "1875/1875 [==============================] - 7s 4ms/step - loss: 0.1254 - accuracy: 0.9683 - val_loss: 0.1005 - val_accuracy: 0.9763\n",
            "Epoch 5/10\n",
            "1875/1875 [==============================] - 9s 5ms/step - loss: 0.1203 - accuracy: 0.9714 - val_loss: 0.0937 - val_accuracy: 0.9791\n",
            "Epoch 6/10\n",
            "1875/1875 [==============================] - 7s 4ms/step - loss: 0.1146 - accuracy: 0.9734 - val_loss: 0.1082 - val_accuracy: 0.9766\n",
            "Epoch 7/10\n",
            "1875/1875 [==============================] - 8s 4ms/step - loss: 0.1079 - accuracy: 0.9758 - val_loss: 0.1109 - val_accuracy: 0.9785\n",
            "Epoch 8/10\n",
            "1875/1875 [==============================] - 7s 4ms/step - loss: 0.1068 - accuracy: 0.9754 - val_loss: 0.0911 - val_accuracy: 0.9808\n",
            "Epoch 9/10\n",
            "1875/1875 [==============================] - 8s 4ms/step - loss: 0.1030 - accuracy: 0.9769 - val_loss: 0.1116 - val_accuracy: 0.9788\n",
            "Epoch 10/10\n",
            "1875/1875 [==============================] - 7s 4ms/step - loss: 0.1015 - accuracy: 0.9773 - val_loss: 0.1082 - val_accuracy: 0.9821\n",
            "Running epochs for optimizer: Adam\n",
            "Epoch 1/10\n",
            "1875/1875 [==============================] - 9s 4ms/step - loss: 0.2878 - accuracy: 0.9126 - val_loss: 0.1188 - val_accuracy: 0.9639\n",
            "Epoch 2/10\n",
            "1875/1875 [==============================] - 9s 5ms/step - loss: 0.1455 - accuracy: 0.9568 - val_loss: 0.0937 - val_accuracy: 0.9707\n",
            "Epoch 3/10\n",
            "1875/1875 [==============================] - 7s 4ms/step - loss: 0.1149 - accuracy: 0.9646 - val_loss: 0.0834 - val_accuracy: 0.9734\n",
            "Epoch 4/10\n",
            "1875/1875 [==============================] - 9s 5ms/step - loss: 0.0975 - accuracy: 0.9699 - val_loss: 0.0773 - val_accuracy: 0.9764\n",
            "Epoch 5/10\n",
            "1875/1875 [==============================] - 8s 4ms/step - loss: 0.0888 - accuracy: 0.9726 - val_loss: 0.0740 - val_accuracy: 0.9786\n",
            "Epoch 6/10\n",
            "1875/1875 [==============================] - 8s 4ms/step - loss: 0.0787 - accuracy: 0.9760 - val_loss: 0.0662 - val_accuracy: 0.9797\n",
            "Epoch 7/10\n",
            "1875/1875 [==============================] - 8s 4ms/step - loss: 0.0714 - accuracy: 0.9782 - val_loss: 0.0669 - val_accuracy: 0.9805\n",
            "Epoch 8/10\n",
            "1875/1875 [==============================] - 8s 4ms/step - loss: 0.0678 - accuracy: 0.9786 - val_loss: 0.0756 - val_accuracy: 0.9783\n",
            "Epoch 9/10\n",
            "1875/1875 [==============================] - 10s 5ms/step - loss: 0.0672 - accuracy: 0.9797 - val_loss: 0.0731 - val_accuracy: 0.9790\n",
            "Epoch 10/10\n",
            "1875/1875 [==============================] - 7s 4ms/step - loss: 0.0612 - accuracy: 0.9809 - val_loss: 0.0638 - val_accuracy: 0.9818\n"
          ]
        }
      ]
    },
    {
      "cell_type": "markdown",
      "source": [
        " For SGD : loss: 0.1618 - accuracy: 0.9522 - val_loss: 0.1111 - val_accuracy: 0.\n",
        "9667\n",
        "For AdaGrad : loss: 0.3770 - accuracy: 0.8893 - val_loss: 0.2673 - val_accuracy: 0.9232\n",
        "For AdaDelta : loss: 1.3994 - accuracy: 0.6317 - val_loss: 1.1899 - val_accuracy: 0.7964\n",
        "For RMSProp : loss: 0.1015 - accuracy: 0.9773 - val_loss: 0.1082 - val_accuracy: 0.9821\n",
        "For ADAM : loss: 0.0612 - accuracy: 0.9809 - val_loss: 0.0638 - val_accuracy: 0.9818 --->Best\n",
        "\n",
        "\n",
        "---\n",
        "\n"
      ],
      "metadata": {
        "id": "SaKcN2aE2Pz-"
      }
    },
    {
      "cell_type": "markdown",
      "source": [],
      "metadata": {
        "id": "OFKOHtw62zJA"
      }
    },
    {
      "cell_type": "code",
      "source": [],
      "metadata": {
        "id": "UvhuWkUJ2ilc"
      },
      "execution_count": null,
      "outputs": []
    },
    {
      "cell_type": "code",
      "source": [],
      "metadata": {
        "id": "hGtWrG_B0-d3"
      },
      "execution_count": null,
      "outputs": []
    }
  ]
}